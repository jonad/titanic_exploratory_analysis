{
 "cells": [
  {
   "cell_type": "markdown",
   "metadata": {},
   "source": [
    "# Exploratory data analysis on the [titanic](https://d17h27t6h515a5.cloudfront.net/topher/2016/September/57e9a84c_titanic-data/titanic-data.csv) datasets"
   ]
  },
  {
   "cell_type": "markdown",
   "metadata": {},
   "source": [
    "## Introduction"
   ]
  },
  {
   "cell_type": "markdown",
   "metadata": {},
   "source": [
    "On April 15, 1912, during her maiden voyage, the Titanic sank after colliding with an iceberg, killing 1502 out of 2224 passengers and crews. This sensational tragedy shocked the international community and led to better safety regulations for ships. One of the reasons that the shipwreck led to such loss of life was that there were not enough lifeboats for the passengers and crew. Although there was some element of luck involved in surviving the sinking, some groups of people were more likely to survive than others, such as women, children, and the upper-class. In this notebook, we will explore what characteristics do survivors share."
   ]
  },
  {
   "cell_type": "markdown",
   "metadata": {},
   "source": [
    "## What characterics do survivors have?"
   ]
  },
  {
   "cell_type": "markdown",
   "metadata": {},
   "source": [
    "### First glance at the data"
   ]
  },
  {
   "cell_type": "code",
   "execution_count": 579,
   "metadata": {
    "collapsed": false
   },
   "outputs": [],
   "source": [
    "# import libraries\n",
    "%matplotlib inline\n",
    "import pandas as pd\n",
    "from matplotlib import pyplot as plt\n",
    "import matplotlib\n",
    "import warnings\n",
    "import seaborn as sns\n",
    "from collections import Counter\n",
    "import numpy as np\n",
    "warnings.filterwarnings(\"ignore\")"
   ]
  },
  {
   "cell_type": "code",
   "execution_count": 580,
   "metadata": {
    "collapsed": true
   },
   "outputs": [],
   "source": [
    "# Get the data\n",
    "url = \"https://d17h27t6h515a5.cloudfront.net/topher/2016/September/57e9a84c_titanic-data/titanic-data.csv\"\n",
    "data = pd.read_csv(url)"
   ]
  },
  {
   "cell_type": "code",
   "execution_count": 581,
   "metadata": {
    "collapsed": false
   },
   "outputs": [
    {
     "data": {
      "text/html": [
       "<div>\n",
       "<table border=\"1\" class=\"dataframe\">\n",
       "  <thead>\n",
       "    <tr style=\"text-align: right;\">\n",
       "      <th></th>\n",
       "      <th>PassengerId</th>\n",
       "      <th>Survived</th>\n",
       "      <th>Pclass</th>\n",
       "      <th>Name</th>\n",
       "      <th>Sex</th>\n",
       "      <th>Age</th>\n",
       "      <th>SibSp</th>\n",
       "      <th>Parch</th>\n",
       "      <th>Ticket</th>\n",
       "      <th>Fare</th>\n",
       "      <th>Cabin</th>\n",
       "      <th>Embarked</th>\n",
       "    </tr>\n",
       "  </thead>\n",
       "  <tbody>\n",
       "    <tr>\n",
       "      <th>0</th>\n",
       "      <td>1</td>\n",
       "      <td>0</td>\n",
       "      <td>3</td>\n",
       "      <td>Braund, Mr. Owen Harris</td>\n",
       "      <td>male</td>\n",
       "      <td>22.0</td>\n",
       "      <td>1</td>\n",
       "      <td>0</td>\n",
       "      <td>A/5 21171</td>\n",
       "      <td>7.2500</td>\n",
       "      <td>NaN</td>\n",
       "      <td>S</td>\n",
       "    </tr>\n",
       "    <tr>\n",
       "      <th>1</th>\n",
       "      <td>2</td>\n",
       "      <td>1</td>\n",
       "      <td>1</td>\n",
       "      <td>Cumings, Mrs. John Bradley (Florence Briggs Th...</td>\n",
       "      <td>female</td>\n",
       "      <td>38.0</td>\n",
       "      <td>1</td>\n",
       "      <td>0</td>\n",
       "      <td>PC 17599</td>\n",
       "      <td>71.2833</td>\n",
       "      <td>C85</td>\n",
       "      <td>C</td>\n",
       "    </tr>\n",
       "    <tr>\n",
       "      <th>2</th>\n",
       "      <td>3</td>\n",
       "      <td>1</td>\n",
       "      <td>3</td>\n",
       "      <td>Heikkinen, Miss. Laina</td>\n",
       "      <td>female</td>\n",
       "      <td>26.0</td>\n",
       "      <td>0</td>\n",
       "      <td>0</td>\n",
       "      <td>STON/O2. 3101282</td>\n",
       "      <td>7.9250</td>\n",
       "      <td>NaN</td>\n",
       "      <td>S</td>\n",
       "    </tr>\n",
       "    <tr>\n",
       "      <th>3</th>\n",
       "      <td>4</td>\n",
       "      <td>1</td>\n",
       "      <td>1</td>\n",
       "      <td>Futrelle, Mrs. Jacques Heath (Lily May Peel)</td>\n",
       "      <td>female</td>\n",
       "      <td>35.0</td>\n",
       "      <td>1</td>\n",
       "      <td>0</td>\n",
       "      <td>113803</td>\n",
       "      <td>53.1000</td>\n",
       "      <td>C123</td>\n",
       "      <td>S</td>\n",
       "    </tr>\n",
       "    <tr>\n",
       "      <th>4</th>\n",
       "      <td>5</td>\n",
       "      <td>0</td>\n",
       "      <td>3</td>\n",
       "      <td>Allen, Mr. William Henry</td>\n",
       "      <td>male</td>\n",
       "      <td>35.0</td>\n",
       "      <td>0</td>\n",
       "      <td>0</td>\n",
       "      <td>373450</td>\n",
       "      <td>8.0500</td>\n",
       "      <td>NaN</td>\n",
       "      <td>S</td>\n",
       "    </tr>\n",
       "  </tbody>\n",
       "</table>\n",
       "</div>"
      ],
      "text/plain": [
       "   PassengerId  Survived  Pclass  \\\n",
       "0            1         0       3   \n",
       "1            2         1       1   \n",
       "2            3         1       3   \n",
       "3            4         1       1   \n",
       "4            5         0       3   \n",
       "\n",
       "                                                Name     Sex   Age  SibSp  \\\n",
       "0                            Braund, Mr. Owen Harris    male  22.0      1   \n",
       "1  Cumings, Mrs. John Bradley (Florence Briggs Th...  female  38.0      1   \n",
       "2                             Heikkinen, Miss. Laina  female  26.0      0   \n",
       "3       Futrelle, Mrs. Jacques Heath (Lily May Peel)  female  35.0      1   \n",
       "4                           Allen, Mr. William Henry    male  35.0      0   \n",
       "\n",
       "   Parch            Ticket     Fare Cabin Embarked  \n",
       "0      0         A/5 21171   7.2500   NaN        S  \n",
       "1      0          PC 17599  71.2833   C85        C  \n",
       "2      0  STON/O2. 3101282   7.9250   NaN        S  \n",
       "3      0            113803  53.1000  C123        S  \n",
       "4      0            373450   8.0500   NaN        S  "
      ]
     },
     "execution_count": 581,
     "metadata": {},
     "output_type": "execute_result"
    }
   ],
   "source": [
    "# First look\n",
    "data.head()"
   ]
  },
  {
   "cell_type": "code",
   "execution_count": 582,
   "metadata": {
    "collapsed": false
   },
   "outputs": [
    {
     "name": "stdout",
     "output_type": "stream",
     "text": [
      "<class 'pandas.core.frame.DataFrame'>\n",
      "RangeIndex: 891 entries, 0 to 890\n",
      "Data columns (total 12 columns):\n",
      "PassengerId    891 non-null int64\n",
      "Survived       891 non-null int64\n",
      "Pclass         891 non-null int64\n",
      "Name           891 non-null object\n",
      "Sex            891 non-null object\n",
      "Age            714 non-null float64\n",
      "SibSp          891 non-null int64\n",
      "Parch          891 non-null int64\n",
      "Ticket         891 non-null object\n",
      "Fare           891 non-null float64\n",
      "Cabin          204 non-null object\n",
      "Embarked       889 non-null object\n",
      "dtypes: float64(2), int64(5), object(5)\n",
      "memory usage: 83.6+ KB\n"
     ]
    }
   ],
   "source": [
    "data.info()"
   ]
  },
  {
   "cell_type": "markdown",
   "metadata": {},
   "source": [
    "Our dataset has 891 entries with the following variables:\n",
    "  - PassengerId: an integer value that represents the passenger's Id.\n",
    "  - Survived: an integer value 0 or 1 that indicates whether the passenger survived(1) or not (0).\n",
    "  - Pclass: an integer value that represents the ticket class.\n",
    "  - Name: a string value that represents the passenger's name.\n",
    "  - Sex: a string value that represents the passenger's gender.\n",
    "  - Age: a decimal value that represents the passenger's age.\n",
    "  - SibSp: an integer value that represents the passenger's number of siblings and/or spouse aboard the Titanic.\n",
    "  - Parch: an integer value that represents the passenger's number of parent and/or children aboard the Titanic.\n",
    "  - Ticket: a string value that represents the passenger's ticket number.\n",
    "  - Fare: a decimal value that represents the passenger's fare.\n",
    "  - Cabin: a string value that represents the passenger's cabin.\n",
    "  - Embarked: a string value that represents the passenger's port of embarkation -\n",
    "    C = Cherbourg, Q = Queenstown, S = Southampton.\n",
    "    \n",
    "    \n",
    "After the first glance at our data, the following variables have some missing values: \n",
    " - Age\n",
    " - Cabin\n",
    " - Embarked\n",
    "\n",
    "Let's further investigate them to see if we can replace those missing values with values representative of the data set."
   ]
  },
  {
   "cell_type": "markdown",
   "metadata": {},
   "source": [
    "### Clean the data"
   ]
  },
  {
   "cell_type": "markdown",
   "metadata": {},
   "source": [
    "#### Fixing 'Age' variable"
   ]
  },
  {
   "cell_type": "markdown",
   "metadata": {},
   "source": [
    "The 'Sex' variable which represents the passenger's gender has two values: male and female. We will include an additional value called 'child' to represent children. A child is a passenger who is 17 years of age or younger. "
   ]
  },
  {
   "cell_type": "code",
   "execution_count": 584,
   "metadata": {
    "collapsed": false
   },
   "outputs": [],
   "source": [
    "# Add 'child' value in 'Sex' variable \n",
    "data['Sex'] = data.apply(lambda row: 'child' if row['Age'] < 18 else row['Sex'], axis=1)"
   ]
  },
  {
   "cell_type": "code",
   "execution_count": 585,
   "metadata": {
    "collapsed": false
   },
   "outputs": [],
   "source": [
    "# Retrieve entries with NaN value in 'Age' variable.\n",
    "null_age = data[data.isnull().Age]\n",
    "\n",
    "# Retrieve entries with no NaN value in 'Age' variable.\n",
    "notnull_age = data[data.notnull().Age]\n",
    "\n",
    "# Get their sizes\n",
    "null_age_len = null_age.shape[0]\n",
    "notnull_age_len = notnull_age.shape[0]\n",
    "total = null_age_len + notnull_age_len"
   ]
  },
  {
   "cell_type": "code",
   "execution_count": 587,
   "metadata": {
    "collapsed": false
   },
   "outputs": [
    {
     "name": "stdout",
     "output_type": "stream",
     "text": [
      "The variable 'Age' has 177 missing values\n",
      "The variable 'Age' has 714 non missing values\n",
      "The total of missing + non missing values is equal to the total number of entries? True\n"
     ]
    }
   ],
   "source": [
    "# Print values\n",
    "print(f\"The variable 'Age' has {null_age_len} missing values\")\n",
    "print(f\"The variable 'Age' has {notnull_age_len} non missing values\")\n",
    "print(f\"The total of missing + non missing values is equal to the total number of entries? {total == data.shape[0]}\")"
   ]
  },
  {
   "cell_type": "code",
   "execution_count": 588,
   "metadata": {
    "collapsed": false
   },
   "outputs": [
    {
     "data": {
      "text/html": [
       "<div>\n",
       "<table border=\"1\" class=\"dataframe\">\n",
       "  <thead>\n",
       "    <tr style=\"text-align: right;\">\n",
       "      <th></th>\n",
       "      <th>PassengerId</th>\n",
       "      <th>Survived</th>\n",
       "      <th>Pclass</th>\n",
       "      <th>Name</th>\n",
       "      <th>Sex</th>\n",
       "      <th>Age</th>\n",
       "      <th>SibSp</th>\n",
       "      <th>Parch</th>\n",
       "      <th>Ticket</th>\n",
       "      <th>Fare</th>\n",
       "      <th>Cabin</th>\n",
       "      <th>Embarked</th>\n",
       "    </tr>\n",
       "  </thead>\n",
       "  <tbody>\n",
       "    <tr>\n",
       "      <th>5</th>\n",
       "      <td>6</td>\n",
       "      <td>0</td>\n",
       "      <td>3</td>\n",
       "      <td>Moran, Mr. James</td>\n",
       "      <td>male</td>\n",
       "      <td>NaN</td>\n",
       "      <td>0</td>\n",
       "      <td>0</td>\n",
       "      <td>330877</td>\n",
       "      <td>8.4583</td>\n",
       "      <td>NaN</td>\n",
       "      <td>Q</td>\n",
       "    </tr>\n",
       "    <tr>\n",
       "      <th>17</th>\n",
       "      <td>18</td>\n",
       "      <td>1</td>\n",
       "      <td>2</td>\n",
       "      <td>Williams, Mr. Charles Eugene</td>\n",
       "      <td>male</td>\n",
       "      <td>NaN</td>\n",
       "      <td>0</td>\n",
       "      <td>0</td>\n",
       "      <td>244373</td>\n",
       "      <td>13.0000</td>\n",
       "      <td>NaN</td>\n",
       "      <td>S</td>\n",
       "    </tr>\n",
       "    <tr>\n",
       "      <th>19</th>\n",
       "      <td>20</td>\n",
       "      <td>1</td>\n",
       "      <td>3</td>\n",
       "      <td>Masselmani, Mrs. Fatima</td>\n",
       "      <td>female</td>\n",
       "      <td>NaN</td>\n",
       "      <td>0</td>\n",
       "      <td>0</td>\n",
       "      <td>2649</td>\n",
       "      <td>7.2250</td>\n",
       "      <td>NaN</td>\n",
       "      <td>C</td>\n",
       "    </tr>\n",
       "    <tr>\n",
       "      <th>26</th>\n",
       "      <td>27</td>\n",
       "      <td>0</td>\n",
       "      <td>3</td>\n",
       "      <td>Emir, Mr. Farred Chehab</td>\n",
       "      <td>male</td>\n",
       "      <td>NaN</td>\n",
       "      <td>0</td>\n",
       "      <td>0</td>\n",
       "      <td>2631</td>\n",
       "      <td>7.2250</td>\n",
       "      <td>NaN</td>\n",
       "      <td>C</td>\n",
       "    </tr>\n",
       "    <tr>\n",
       "      <th>28</th>\n",
       "      <td>29</td>\n",
       "      <td>1</td>\n",
       "      <td>3</td>\n",
       "      <td>O'Dwyer, Miss. Ellen \"Nellie\"</td>\n",
       "      <td>female</td>\n",
       "      <td>NaN</td>\n",
       "      <td>0</td>\n",
       "      <td>0</td>\n",
       "      <td>330959</td>\n",
       "      <td>7.8792</td>\n",
       "      <td>NaN</td>\n",
       "      <td>Q</td>\n",
       "    </tr>\n",
       "  </tbody>\n",
       "</table>\n",
       "</div>"
      ],
      "text/plain": [
       "    PassengerId  Survived  Pclass                           Name     Sex  Age  \\\n",
       "5             6         0       3               Moran, Mr. James    male  NaN   \n",
       "17           18         1       2   Williams, Mr. Charles Eugene    male  NaN   \n",
       "19           20         1       3        Masselmani, Mrs. Fatima  female  NaN   \n",
       "26           27         0       3        Emir, Mr. Farred Chehab    male  NaN   \n",
       "28           29         1       3  O'Dwyer, Miss. Ellen \"Nellie\"  female  NaN   \n",
       "\n",
       "    SibSp  Parch  Ticket     Fare Cabin Embarked  \n",
       "5       0      0  330877   8.4583   NaN        Q  \n",
       "17      0      0  244373  13.0000   NaN        S  \n",
       "19      0      0    2649   7.2250   NaN        C  \n",
       "26      0      0    2631   7.2250   NaN        C  \n",
       "28      0      0  330959   7.8792   NaN        Q  "
      ]
     },
     "execution_count": 588,
     "metadata": {},
     "output_type": "execute_result"
    }
   ],
   "source": [
    "# Glance at the entries with NaN value in 'Age' variable\n",
    "null_age.head()"
   ]
  },
  {
   "cell_type": "markdown",
   "metadata": {},
   "source": [
    "##### Investigate entries with not NaN values in 'Age' variable"
   ]
  },
  {
   "cell_type": "code",
   "execution_count": 589,
   "metadata": {
    "collapsed": false
   },
   "outputs": [
    {
     "data": {
      "image/png": "[encoded data removed]",
      "text/plain": [
       "<matplotlib.figure.Figure at 0x128cf6358>"
      ]
     },
     "metadata": {},
     "output_type": "display_data"
    }
   ],
   "source": [
    "# what is the age distribution?\n",
    "fig, axs = plt.subplots(ncols=4, sharey=True, figsize=(10, 5))\n",
    "sns.distplot(notnull_age['Age'], hist_kws={'color': 'Teal'},bins=10, kde_kws={'color': 'green'}, ax=axs[0], label='All');\n",
    "axs[0].set(title='All Age Distribution')\n",
    "axs[0].set(ylabel='Probability Density')\n",
    "sns.distplot(notnull_age[notnull_age['Sex']== 'male']['Age'], bins=10,hist_kws={'color': 'yellow'}, kde_kws={'color': 'blue'}, ax=axs[1], label='male' );\n",
    "axs[1].set(title='Male Age Distribution')\n",
    "sns.distplot(notnull_age[notnull_age['Sex']== 'female']['Age'],bins=10, hist_kws={'color': 'red'}, kde_kws={'color': 'Navy'}, ax=axs[2], label='female');\n",
    "axs[2].set(title='Female Age Distribution')\n",
    "sns.distplot(notnull_age[notnull_age['Sex']== 'child']['Age'], bins=10,hist_kws={'color': 'red'}, kde_kws={'color': 'Navy'}, ax=axs[3], label='child');\n",
    "axs[3].set(title='Children Age Distribution')\n",
    "plt.show()"
   ]
  },
  {
   "cell_type": "markdown",
   "metadata": {},
   "source": [
    "From the figures above, we can infer the followings:\n",
    "   - 'All Age Distribution' figure has almost a normal distribution.\n",
    "   - 'Male Age Distribution' and 'Female Age Distribution' figures are right skewed which indicates that they are mostly young adults.\n",
    "   - 'Children Age Distribution' figure is binomial which indicate that children are mostly either babies or teenagers.\n",
    "   \n",
    "Now that we have the differents ages distribution, let's fix the missing values of 'Age' variable in our data. We will use the median value in each gender group."
   ]
  },
  {
   "cell_type": "markdown",
   "metadata": {},
   "source": [
    "##### Replace NaN in 'Age' with the median age of the corresponding 'Sex' category"
   ]
  },
  {
   "cell_type": "code",
   "execution_count": 590,
   "metadata": {
    "collapsed": false
   },
   "outputs": [
    {
     "name": "stdout",
     "output_type": "stream",
     "text": [
      "The median male adult age in our dataset is 31.0\n",
      "The median female adult age in our dataset is 30.25\n",
      "The median child age in our dataset is 9.0\n"
     ]
    }
   ],
   "source": [
    "## fixing missing Ages.\n",
    "### take the median age in each gender category\n",
    "median_male = np.median(notnull_age[notnull_age['Sex']== 'male']['Age'])\n",
    "median_female = np.median(notnull_age[notnull_age['Sex']== 'female']['Age'])\n",
    "median_children = np.median(notnull_age[notnull_age['Sex']== 'child']['Age'])\n",
    "print(f'The median male adult age in our dataset is {median_male}')\n",
    "print(f'The median female adult age in our dataset is {median_female}')\n",
    "print(f'The median child age in our dataset is {median_children}')\n",
    "\n",
    "### replace missing value in 'Age' with their median\n",
    "data['Age'] = data.apply(lambda row: median_male \n",
    "                                if (np.isnan(row['Age']) & (row['Sex'] == 'male'))\n",
    "                                else median_female\n",
    "                                if (np.isnan(row['Age']) & (row['Sex'] == 'female'))\n",
    "                                else median_child\n",
    "                                if (np.isnan(row['Age']) & (row['Sex'] == 'female'))\n",
    "                                else row['Age'], axis=1)"
   ]
  },
  {
   "cell_type": "code",
   "execution_count": 591,
   "metadata": {
    "collapsed": false
   },
   "outputs": [
    {
     "data": {
      "text/plain": [
       "False"
      ]
     },
     "execution_count": 591,
     "metadata": {},
     "output_type": "execute_result"
    }
   ],
   "source": [
    "# check if there is any na in 'Age' variable\n",
    "any(np.isnan(data['Age']))"
   ]
  },
  {
   "cell_type": "code",
   "execution_count": 592,
   "metadata": {
    "collapsed": false
   },
   "outputs": [
    {
     "data": {
      "text/html": [
       "<div>\n",
       "<table border=\"1\" class=\"dataframe\">\n",
       "  <thead>\n",
       "    <tr style=\"text-align: right;\">\n",
       "      <th></th>\n",
       "      <th>PassengerId</th>\n",
       "      <th>Survived</th>\n",
       "      <th>Pclass</th>\n",
       "      <th>Name</th>\n",
       "      <th>Sex</th>\n",
       "      <th>Age</th>\n",
       "      <th>SibSp</th>\n",
       "      <th>Parch</th>\n",
       "      <th>Ticket</th>\n",
       "      <th>Fare</th>\n",
       "      <th>Cabin</th>\n",
       "      <th>Embarked</th>\n",
       "    </tr>\n",
       "  </thead>\n",
       "  <tbody>\n",
       "    <tr>\n",
       "      <th>5</th>\n",
       "      <td>6</td>\n",
       "      <td>0</td>\n",
       "      <td>3</td>\n",
       "      <td>Moran, Mr. James</td>\n",
       "      <td>male</td>\n",
       "      <td>31.00</td>\n",
       "      <td>0</td>\n",
       "      <td>0</td>\n",
       "      <td>330877</td>\n",
       "      <td>8.4583</td>\n",
       "      <td>NaN</td>\n",
       "      <td>Q</td>\n",
       "    </tr>\n",
       "    <tr>\n",
       "      <th>17</th>\n",
       "      <td>18</td>\n",
       "      <td>1</td>\n",
       "      <td>2</td>\n",
       "      <td>Williams, Mr. Charles Eugene</td>\n",
       "      <td>male</td>\n",
       "      <td>31.00</td>\n",
       "      <td>0</td>\n",
       "      <td>0</td>\n",
       "      <td>244373</td>\n",
       "      <td>13.0000</td>\n",
       "      <td>NaN</td>\n",
       "      <td>S</td>\n",
       "    </tr>\n",
       "    <tr>\n",
       "      <th>19</th>\n",
       "      <td>20</td>\n",
       "      <td>1</td>\n",
       "      <td>3</td>\n",
       "      <td>Masselmani, Mrs. Fatima</td>\n",
       "      <td>female</td>\n",
       "      <td>30.25</td>\n",
       "      <td>0</td>\n",
       "      <td>0</td>\n",
       "      <td>2649</td>\n",
       "      <td>7.2250</td>\n",
       "      <td>NaN</td>\n",
       "      <td>C</td>\n",
       "    </tr>\n",
       "    <tr>\n",
       "      <th>26</th>\n",
       "      <td>27</td>\n",
       "      <td>0</td>\n",
       "      <td>3</td>\n",
       "      <td>Emir, Mr. Farred Chehab</td>\n",
       "      <td>male</td>\n",
       "      <td>31.00</td>\n",
       "      <td>0</td>\n",
       "      <td>0</td>\n",
       "      <td>2631</td>\n",
       "      <td>7.2250</td>\n",
       "      <td>NaN</td>\n",
       "      <td>C</td>\n",
       "    </tr>\n",
       "    <tr>\n",
       "      <th>28</th>\n",
       "      <td>29</td>\n",
       "      <td>1</td>\n",
       "      <td>3</td>\n",
       "      <td>O'Dwyer, Miss. Ellen \"Nellie\"</td>\n",
       "      <td>female</td>\n",
       "      <td>30.25</td>\n",
       "      <td>0</td>\n",
       "      <td>0</td>\n",
       "      <td>330959</td>\n",
       "      <td>7.8792</td>\n",
       "      <td>NaN</td>\n",
       "      <td>Q</td>\n",
       "    </tr>\n",
       "  </tbody>\n",
       "</table>\n",
       "</div>"
      ],
      "text/plain": [
       "    PassengerId  Survived  Pclass                           Name     Sex  \\\n",
       "5             6         0       3               Moran, Mr. James    male   \n",
       "17           18         1       2   Williams, Mr. Charles Eugene    male   \n",
       "19           20         1       3        Masselmani, Mrs. Fatima  female   \n",
       "26           27         0       3        Emir, Mr. Farred Chehab    male   \n",
       "28           29         1       3  O'Dwyer, Miss. Ellen \"Nellie\"  female   \n",
       "\n",
       "      Age  SibSp  Parch  Ticket     Fare Cabin Embarked  \n",
       "5   31.00      0      0  330877   8.4583   NaN        Q  \n",
       "17  31.00      0      0  244373  13.0000   NaN        S  \n",
       "19  30.25      0      0    2649   7.2250   NaN        C  \n",
       "26  31.00      0      0    2631   7.2250   NaN        C  \n",
       "28  30.25      0      0  330959   7.8792   NaN        Q  "
      ]
     },
     "execution_count": 592,
     "metadata": {},
     "output_type": "execute_result"
    }
   ],
   "source": [
    "# let's check our data\n",
    "index_nan_ages = null_age.index.values\n",
    "data_with_index_null = data.iloc[index_nan_ages]\n",
    "data_with_index_null.head()"
   ]
  },
  {
   "cell_type": "code",
   "execution_count": 594,
   "metadata": {
    "collapsed": false
   },
   "outputs": [
    {
     "data": {
      "text/html": [
       "<div>\n",
       "<table border=\"1\" class=\"dataframe\">\n",
       "  <thead>\n",
       "    <tr style=\"text-align: right;\">\n",
       "      <th></th>\n",
       "      <th>PassengerId</th>\n",
       "      <th>Survived</th>\n",
       "      <th>Pclass</th>\n",
       "      <th>Name</th>\n",
       "      <th>Sex</th>\n",
       "      <th>Age</th>\n",
       "      <th>SibSp</th>\n",
       "      <th>Parch</th>\n",
       "      <th>Ticket</th>\n",
       "      <th>Fare</th>\n",
       "      <th>Cabin</th>\n",
       "      <th>Embarked</th>\n",
       "    </tr>\n",
       "  </thead>\n",
       "  <tbody>\n",
       "    <tr>\n",
       "      <th>859</th>\n",
       "      <td>860</td>\n",
       "      <td>0</td>\n",
       "      <td>3</td>\n",
       "      <td>Razi, Mr. Raihed</td>\n",
       "      <td>male</td>\n",
       "      <td>31.00</td>\n",
       "      <td>0</td>\n",
       "      <td>0</td>\n",
       "      <td>2629</td>\n",
       "      <td>7.2292</td>\n",
       "      <td>NaN</td>\n",
       "      <td>C</td>\n",
       "    </tr>\n",
       "    <tr>\n",
       "      <th>863</th>\n",
       "      <td>864</td>\n",
       "      <td>0</td>\n",
       "      <td>3</td>\n",
       "      <td>Sage, Miss. Dorothy Edith \"Dolly\"</td>\n",
       "      <td>female</td>\n",
       "      <td>30.25</td>\n",
       "      <td>8</td>\n",
       "      <td>2</td>\n",
       "      <td>CA. 2343</td>\n",
       "      <td>69.5500</td>\n",
       "      <td>NaN</td>\n",
       "      <td>S</td>\n",
       "    </tr>\n",
       "    <tr>\n",
       "      <th>868</th>\n",
       "      <td>869</td>\n",
       "      <td>0</td>\n",
       "      <td>3</td>\n",
       "      <td>van Melkebeke, Mr. Philemon</td>\n",
       "      <td>male</td>\n",
       "      <td>31.00</td>\n",
       "      <td>0</td>\n",
       "      <td>0</td>\n",
       "      <td>345777</td>\n",
       "      <td>9.5000</td>\n",
       "      <td>NaN</td>\n",
       "      <td>S</td>\n",
       "    </tr>\n",
       "    <tr>\n",
       "      <th>878</th>\n",
       "      <td>879</td>\n",
       "      <td>0</td>\n",
       "      <td>3</td>\n",
       "      <td>Laleff, Mr. Kristo</td>\n",
       "      <td>male</td>\n",
       "      <td>31.00</td>\n",
       "      <td>0</td>\n",
       "      <td>0</td>\n",
       "      <td>349217</td>\n",
       "      <td>7.8958</td>\n",
       "      <td>NaN</td>\n",
       "      <td>S</td>\n",
       "    </tr>\n",
       "    <tr>\n",
       "      <th>888</th>\n",
       "      <td>889</td>\n",
       "      <td>0</td>\n",
       "      <td>3</td>\n",
       "      <td>Johnston, Miss. Catherine Helen \"Carrie\"</td>\n",
       "      <td>female</td>\n",
       "      <td>30.25</td>\n",
       "      <td>1</td>\n",
       "      <td>2</td>\n",
       "      <td>W./C. 6607</td>\n",
       "      <td>23.4500</td>\n",
       "      <td>NaN</td>\n",
       "      <td>S</td>\n",
       "    </tr>\n",
       "  </tbody>\n",
       "</table>\n",
       "</div>"
      ],
      "text/plain": [
       "     PassengerId  Survived  Pclass                                      Name  \\\n",
       "859          860         0       3                          Razi, Mr. Raihed   \n",
       "863          864         0       3         Sage, Miss. Dorothy Edith \"Dolly\"   \n",
       "868          869         0       3               van Melkebeke, Mr. Philemon   \n",
       "878          879         0       3                        Laleff, Mr. Kristo   \n",
       "888          889         0       3  Johnston, Miss. Catherine Helen \"Carrie\"   \n",
       "\n",
       "        Sex    Age  SibSp  Parch      Ticket     Fare Cabin Embarked  \n",
       "859    male  31.00      0      0        2629   7.2292   NaN        C  \n",
       "863  female  30.25      8      2    CA. 2343  69.5500   NaN        S  \n",
       "868    male  31.00      0      0      345777   9.5000   NaN        S  \n",
       "878    male  31.00      0      0      349217   7.8958   NaN        S  \n",
       "888  female  30.25      1      2  W./C. 6607  23.4500   NaN        S  "
      ]
     },
     "execution_count": 594,
     "metadata": {},
     "output_type": "execute_result"
    }
   ],
   "source": [
    "data_with_index_null.tail()"
   ]
  },
  {
   "cell_type": "markdown",
   "metadata": {},
   "source": [
    "We have successfully replaced all NaN values in 'Age' with their corresponding median age gender group."
   ]
  },
  {
   "cell_type": "markdown",
   "metadata": {},
   "source": [
    "#### Fixing 'Cabin' and 'Embarked' variables."
   ]
  },
  {
   "cell_type": "markdown",
   "metadata": {},
   "source": [
    "The variable 'Embarked' has only two missing values we will remove those entries. Since we won't use any 'Cabin' value we will remove the 'Cabin' column."
   ]
  },
  {
   "cell_type": "markdown",
   "metadata": {},
   "source": [
    "##### Remove the 'Cabin' column and entries which have missing values in 'Embarked' variable."
   ]
  },
  {
   "cell_type": "code",
   "execution_count": 595,
   "metadata": {
    "collapsed": false
   },
   "outputs": [],
   "source": [
    "# Remove the 'Cabin' column\n",
    "data.drop('Cabin', axis=1, inplace=True)\n",
    "\n",
    "# Remove entries with NaN value in 'Embarked' \n",
    "data.dropna(axis=0, inplace=True)"
   ]
  },
  {
   "cell_type": "code",
   "execution_count": 596,
   "metadata": {
    "collapsed": false
   },
   "outputs": [
    {
     "name": "stdout",
     "output_type": "stream",
     "text": [
      "<class 'pandas.core.frame.DataFrame'>\n",
      "Int64Index: 889 entries, 0 to 890\n",
      "Data columns (total 11 columns):\n",
      "PassengerId    889 non-null int64\n",
      "Survived       889 non-null int64\n",
      "Pclass         889 non-null int64\n",
      "Name           889 non-null object\n",
      "Sex            889 non-null object\n",
      "Age            889 non-null float64\n",
      "SibSp          889 non-null int64\n",
      "Parch          889 non-null int64\n",
      "Ticket         889 non-null object\n",
      "Fare           889 non-null float64\n",
      "Embarked       889 non-null object\n",
      "dtypes: float64(2), int64(5), object(4)\n",
      "memory usage: 83.3+ KB\n"
     ]
    }
   ],
   "source": [
    "# Check if we have any missing values in our data\n",
    "data.info()"
   ]
  },
  {
   "cell_type": "markdown",
   "metadata": {},
   "source": [
    "Now, we have a clean dataset."
   ]
  },
  {
   "cell_type": "markdown",
   "metadata": {},
   "source": [
    "### Investigate the data\n",
    "Since the goal of this analysis is to see what variables affect the most passenger's survival rate, we will evaluate each variable against the 'Survived' variable."
   ]
  },
  {
   "cell_type": "code",
   "execution_count": 597,
   "metadata": {
    "collapsed": false
   },
   "outputs": [
    {
     "data": {
      "text/html": [
       "<div>\n",
       "<table border=\"1\" class=\"dataframe\">\n",
       "  <thead>\n",
       "    <tr style=\"text-align: right;\">\n",
       "      <th></th>\n",
       "      <th>PassengerId</th>\n",
       "      <th>Survived</th>\n",
       "      <th>Pclass</th>\n",
       "      <th>Name</th>\n",
       "      <th>Sex</th>\n",
       "      <th>Age</th>\n",
       "      <th>SibSp</th>\n",
       "      <th>Parch</th>\n",
       "      <th>Ticket</th>\n",
       "      <th>Fare</th>\n",
       "      <th>Embarked</th>\n",
       "    </tr>\n",
       "  </thead>\n",
       "  <tbody>\n",
       "    <tr>\n",
       "      <th>0</th>\n",
       "      <td>1</td>\n",
       "      <td>0</td>\n",
       "      <td>3</td>\n",
       "      <td>Braund, Mr. Owen Harris</td>\n",
       "      <td>male</td>\n",
       "      <td>22.0</td>\n",
       "      <td>1</td>\n",
       "      <td>0</td>\n",
       "      <td>A/5 21171</td>\n",
       "      <td>7.2500</td>\n",
       "      <td>S</td>\n",
       "    </tr>\n",
       "    <tr>\n",
       "      <th>1</th>\n",
       "      <td>2</td>\n",
       "      <td>1</td>\n",
       "      <td>1</td>\n",
       "      <td>Cumings, Mrs. John Bradley (Florence Briggs Th...</td>\n",
       "      <td>female</td>\n",
       "      <td>38.0</td>\n",
       "      <td>1</td>\n",
       "      <td>0</td>\n",
       "      <td>PC 17599</td>\n",
       "      <td>71.2833</td>\n",
       "      <td>C</td>\n",
       "    </tr>\n",
       "    <tr>\n",
       "      <th>2</th>\n",
       "      <td>3</td>\n",
       "      <td>1</td>\n",
       "      <td>3</td>\n",
       "      <td>Heikkinen, Miss. Laina</td>\n",
       "      <td>female</td>\n",
       "      <td>26.0</td>\n",
       "      <td>0</td>\n",
       "      <td>0</td>\n",
       "      <td>STON/O2. 3101282</td>\n",
       "      <td>7.9250</td>\n",
       "      <td>S</td>\n",
       "    </tr>\n",
       "    <tr>\n",
       "      <th>3</th>\n",
       "      <td>4</td>\n",
       "      <td>1</td>\n",
       "      <td>1</td>\n",
       "      <td>Futrelle, Mrs. Jacques Heath (Lily May Peel)</td>\n",
       "      <td>female</td>\n",
       "      <td>35.0</td>\n",
       "      <td>1</td>\n",
       "      <td>0</td>\n",
       "      <td>113803</td>\n",
       "      <td>53.1000</td>\n",
       "      <td>S</td>\n",
       "    </tr>\n",
       "    <tr>\n",
       "      <th>4</th>\n",
       "      <td>5</td>\n",
       "      <td>0</td>\n",
       "      <td>3</td>\n",
       "      <td>Allen, Mr. William Henry</td>\n",
       "      <td>male</td>\n",
       "      <td>35.0</td>\n",
       "      <td>0</td>\n",
       "      <td>0</td>\n",
       "      <td>373450</td>\n",
       "      <td>8.0500</td>\n",
       "      <td>S</td>\n",
       "    </tr>\n",
       "  </tbody>\n",
       "</table>\n",
       "</div>"
      ],
      "text/plain": [
       "   PassengerId  Survived  Pclass  \\\n",
       "0            1         0       3   \n",
       "1            2         1       1   \n",
       "2            3         1       3   \n",
       "3            4         1       1   \n",
       "4            5         0       3   \n",
       "\n",
       "                                                Name     Sex   Age  SibSp  \\\n",
       "0                            Braund, Mr. Owen Harris    male  22.0      1   \n",
       "1  Cumings, Mrs. John Bradley (Florence Briggs Th...  female  38.0      1   \n",
       "2                             Heikkinen, Miss. Laina  female  26.0      0   \n",
       "3       Futrelle, Mrs. Jacques Heath (Lily May Peel)  female  35.0      1   \n",
       "4                           Allen, Mr. William Henry    male  35.0      0   \n",
       "\n",
       "   Parch            Ticket     Fare Embarked  \n",
       "0      0         A/5 21171   7.2500        S  \n",
       "1      0          PC 17599  71.2833        C  \n",
       "2      0  STON/O2. 3101282   7.9250        S  \n",
       "3      0            113803  53.1000        S  \n",
       "4      0            373450   8.0500        S  "
      ]
     },
     "execution_count": 597,
     "metadata": {},
     "output_type": "execute_result"
    }
   ],
   "source": [
    "# look at the data again\n",
    "data.head()"
   ]
  },
  {
   "cell_type": "markdown",
   "metadata": {},
   "source": [
    "#### Who are the survivors?\n",
    "##### How many survived?"
   ]
  },
  {
   "cell_type": "code",
   "execution_count": 600,
   "metadata": {
    "collapsed": false
   },
   "outputs": [
    {
     "name": "stdout",
     "output_type": "stream",
     "text": [
      "The number of passengers who survived is 340\n",
      "The number of passengers who did not survive is 549\n",
      "The likelihood of survival of a given passenger is 0.38\n"
     ]
    }
   ],
   "source": [
    "# Survived passengers\n",
    "survived = Counter(data['Survived'])\n",
    "print(f'The number of passengers who survived is {survived[1]}')\n",
    "print(f'The number of passengers who did not survive is {survived[0]}')\n",
    "print(f'The likelihood of survival of a given passenger is { np.round(survived[1]/ data.shape[0],2)}')"
   ]
  },
  {
   "cell_type": "code",
   "execution_count": 601,
   "metadata": {
    "collapsed": false
   },
   "outputs": [
    {
     "data": {
      "text/plain": [
       "<matplotlib.text.Text at 0x12886bba8>"
      ]
     },
     "execution_count": 601,
     "metadata": {},
     "output_type": "execute_result"
    },
    {
     "data": {
      "image/png": "[encoded data removed]",
      "text/plain": [
       "<matplotlib.figure.Figure at 0x1351bed30>"
      ]
     },
     "metadata": {},
     "output_type": "display_data"
    }
   ],
   "source": [
    "sns.countplot(x=\"Survived\", data=data)\n",
    "plt.title('Count of Survived vs not Survived')"
   ]
  },
  {
   "cell_type": "markdown",
   "metadata": {},
   "source": [
    "##### Who is more likely to survive? adult males? adult females? or children?"
   ]
  },
  {
   "cell_type": "code",
   "execution_count": 603,
   "metadata": {
    "collapsed": false
   },
   "outputs": [
    {
     "name": "stdout",
     "output_type": "stream",
     "text": [
      "The total number of children is 113\n",
      "The number of children who survived is 61\n",
      "The number of children who did not survive is 52\n",
      "The likehood of survival of a given child is 0.069\n",
      "The likehood of survival of a given child within the child group is 0.54 \n",
      "\n",
      "The total number of male passengers is 519\n",
      "The number of male passengers who survived is 86\n",
      "The number of male passengers who did not survive is 433\n",
      "The likehood of survival of a given male passenger is 0.097\n",
      "The likehood of survival of a given male passenger within the male group is 0.166 \n",
      "\n",
      "The total number of female passengers is 257\n",
      "The number of female passengers who survived is 193\n",
      "The number of female passengers who did not survive is 64\n",
      "The likehood of survival of a given female passenger is 0.217\n",
      "The likehood of survival of a given female passenger within the female group is 0.751 \n"
     ]
    }
   ],
   "source": [
    "male_survivors = data[data['Sex'] == 'male']['Survived']\n",
    "male_survivors_count = Counter(male_survivors)\n",
    "female_survivors = data[data['Sex'] == 'female']['Survived']\n",
    "female_survivors_count = Counter(female_survivors)\n",
    "children_survivors = data[data['Sex'] == 'child']['Survived']\n",
    "children_survivors_count = Counter(children_survivors)\n",
    "total_children = sum(children_survivors_count.values())\n",
    "total_males = sum(male_survivors_count.values())\n",
    "total_females = sum(female_survivors_count.values())\n",
    "\n",
    "print(f'The total number of children is {total_children}')\n",
    "print(f'The number of children who survived is {children_survivors_count[1]}')\n",
    "print(f'The number of children who did not survive is {children_survivors_count[0]}')\n",
    "print(f'The likehood of survival of a given child is {np.round(children_survivors_count[1]/data.shape[0], 3)}')\n",
    "print(f'The likehood of survival of a given child within the child group is {np.round(children_survivors_count[1]/total_children, 3)} ')\n",
    "\n",
    "print()\n",
    "print(f'The total number of male passengers is {total_males}')\n",
    "print(f'The number of male passengers who survived is {male_survivors_count[1]}')\n",
    "print(f'The number of male passengers who did not survive is {male_survivors_count[0]}')\n",
    "print(f'The likehood of survival of a given male passenger is {np.round(male_survivors_count[1]/data.shape[0], 3)}')\n",
    "print(f'The likehood of survival of a given male passenger within the male group is {np.round(male_survivors_count[1]/total_males, 3)} ')\n",
    "\n",
    "print()\n",
    "print(f'The total number of female passengers is {total_females}')\n",
    "print(f'The number of female passengers who survived is {female_survivors_count[1]}')\n",
    "print(f'The number of female passengers who did not survive is {female_survivors_count[0]}')\n",
    "print(f'The likehood of survival of a given female passenger is {np.round(female_survivors_count[1]/data.shape[0], 3)}')\n",
    "print(f'The likehood of survival of a given female passenger within the female group is {np.round(female_survivors_count[1]/total_females, 3)} ')\n"
   ]
  },
  {
   "cell_type": "code",
   "execution_count": 604,
   "metadata": {
    "collapsed": false
   },
   "outputs": [
    {
     "data": {
      "text/plain": [
       "<matplotlib.legend.Legend at 0x12add1c18>"
      ]
     },
     "execution_count": 604,
     "metadata": {},
     "output_type": "execute_result"
    },
    {
     "data": {
      "image/png": "[encoded data removed]",
      "text/plain": [
       "<matplotlib.figure.Figure at 0x13527ec50>"
      ]
     },
     "metadata": {},
     "output_type": "display_data"
    }
   ],
   "source": [
    "sns.set(style='ticks', color_codes=True)\n",
    "g = sns.FacetGrid(data, hue='Sex', palette=\"muted\", size=6, sharey=False)\n",
    "g.map(sns.countplot, 'Survived')\n",
    "g.set_ylabels(\"Count\")\n",
    "plt.title('Number of passengers by gender category')\n",
    "plt.legend()"
   ]
  },
  {
   "cell_type": "code",
   "execution_count": 605,
   "metadata": {
    "collapsed": false
   },
   "outputs": [
    {
     "data": {
      "text/plain": [
       "<matplotlib.text.Text at 0x135125710>"
      ]
     },
     "execution_count": 605,
     "metadata": {},
     "output_type": "execute_result"
    },
    {
     "data": {
      "image/png": "[encoded data removed]",
      "text/plain": [
       "<matplotlib.figure.Figure at 0x135109978>"
      ]
     },
     "metadata": {},
     "output_type": "display_data"
    }
   ],
   "source": [
    "g = sns.factorplot(x=\"Sex\", y='Survived', data=data,\n",
    "                   size=6, kind=\"bar\", palette=\"muted\")\n",
    "\n",
    "g.set_ylabels(\"Survival Probability\")\n",
    "plt.title('Likelihood of survival by gender category')"
   ]
  },
  {
   "cell_type": "markdown",
   "metadata": {},
   "source": [
    "From the figure 'Number of passengers by gender category' and 'Likelihood of survival by gender category', survivors are mostly adult females with 21.7% and 75.1% chance of survival overall and within the female group respectively, followed by Children with 6.9% and 54% chance of survival overall and within the children group respectively, finally, adult males with 9.7% and 16.6% chance of survival overall and within the male group respectively."
   ]
  },
  {
   "cell_type": "markdown",
   "metadata": {},
   "source": [
    "#### Can an upper-class ticket increase a passenger 's likelihood of survival?"
   ]
  },
  {
   "cell_type": "markdown",
   "metadata": {},
   "source": [
    "##### How many ticket class"
   ]
  },
  {
   "cell_type": "code",
   "execution_count": 607,
   "metadata": {
    "collapsed": false
   },
   "outputs": [
    {
     "name": "stdout",
     "output_type": "stream",
     "text": [
      "The total number of passengers in class 3 is 491\n",
      "The total number of passengers in class 1 is 214\n",
      "The total number of passengers in class 2 is 184\n"
     ]
    },
    {
     "data": {
      "text/plain": [
       "<matplotlib.text.Text at 0x12902e7f0>"
      ]
     },
     "execution_count": 607,
     "metadata": {},
     "output_type": "execute_result"
    },
    {
     "data": {
      "image/png": "[encoded data removed]",
      "text/plain": [
       "<matplotlib.figure.Figure at 0x128cf61d0>"
      ]
     },
     "metadata": {},
     "output_type": "display_data"
    }
   ],
   "source": [
    "classes = Counter(data['Pclass'])\n",
    "for elt in classes:\n",
    "    print(f'The total number of passengers in class {elt} is {classes[elt]}')\n",
    "    \n",
    "sns.countplot(x=\"Pclass\", data=data)\n",
    "plt.title('Pclass Count')"
   ]
  },
  {
   "cell_type": "markdown",
   "metadata": {},
   "source": [
    "#### Gender group by ticket class"
   ]
  },
  {
   "cell_type": "code",
   "execution_count": 608,
   "metadata": {
    "collapsed": false
   },
   "outputs": [
    {
     "data": {
      "text/plain": [
       "<matplotlib.text.Text at 0x12a15c1d0>"
      ]
     },
     "execution_count": 608,
     "metadata": {},
     "output_type": "execute_result"
    },
    {
     "data": {
      "image/png": "[encoded data removed]",
      "text/plain": [
       "<matplotlib.figure.Figure at 0x129039fd0>"
      ]
     },
     "metadata": {},
     "output_type": "display_data"
    }
   ],
   "source": [
    "sns.countplot(x=\"Pclass\", hue='Sex', data=data)\n",
    "plt.title('Pclass Count')"
   ]
  },
  {
   "cell_type": "markdown",
   "metadata": {},
   "source": [
    "##### Can a ticket class affect my survival within a gender group?"
   ]
  },
  {
   "cell_type": "code",
   "execution_count": 515,
   "metadata": {
    "collapsed": false
   },
   "outputs": [
    {
     "data": {
      "text/plain": [
       "<seaborn.axisgrid.FacetGrid at 0x134261550>"
      ]
     },
     "execution_count": 515,
     "metadata": {},
     "output_type": "execute_result"
    },
    {
     "data": {
      "image/png": "[encoded data removed]",
      "text/plain": [
       "<matplotlib.figure.Figure at 0x13549b710>"
      ]
     },
     "metadata": {},
     "output_type": "display_data"
    }
   ],
   "source": [
    "g = sns.factorplot(x=\"Pclass\", y='Survived', hue=\"Sex\", data=data,\n",
    "                   size=6, kind=\"bar\", palette=\"muted\")\n",
    "\n",
    "g.set_ylabels(\"Survival Probability\")\n"
   ]
  },
  {
   "cell_type": "markdown",
   "metadata": {},
   "source": [
    "From the figure above, the ticket class increases a passenger's chance of survival. Adult males with an upper-class ticket (Pclass value of 1) are more likely to survive than any other adult males with a lower-class ticket (Pclass 2 or 3). Furthermore, adult females and children are more likely to survive if they have an upper-class ticket (Pclass value of 1 or 2).\n",
    "Given these observations, one might infer that an upper-class ticket (Pclass value of  1) might have a higher 'Fare' value than any lower-class ticket (Pclass value of 2 or Pclass value of 3)."
   ]
  },
  {
   "cell_type": "code",
   "execution_count": 609,
   "metadata": {
    "collapsed": false
   },
   "outputs": [
    {
     "data": {
      "image/png": "[encoded data removed]",
      "text/plain": [
       "<matplotlib.figure.Figure at 0x12a0541d0>"
      ]
     },
     "metadata": {},
     "output_type": "display_data"
    }
   ],
   "source": [
    "# fare by Pclass\n",
    "g = sns.factorplot(x=\"Pclass\", y ='Fare', hue=\"Sex\", data=data,\n",
    "                   size=6, kind=\"box\", palette=\"muted\")"
   ]
  },
  {
   "cell_type": "markdown",
   "metadata": {},
   "source": [
    "The figure above confirms our findings, upper-class tickets have higher 'Fare' value than any lower-class ticket. "
   ]
  },
  {
   "cell_type": "markdown",
   "metadata": {},
   "source": [
    "#### Does having a parent or children increase a passenger's survival rate within the gender group?"
   ]
  },
  {
   "cell_type": "code",
   "execution_count": 610,
   "metadata": {
    "collapsed": false
   },
   "outputs": [
    {
     "data": {
      "text/plain": [
       "<seaborn.axisgrid.FacetGrid at 0x12a4279e8>"
      ]
     },
     "execution_count": 610,
     "metadata": {},
     "output_type": "execute_result"
    },
    {
     "data": {
      "image/png": "[encoded data removed]",
      "text/plain": [
       "<matplotlib.figure.Figure at 0x1290127b8>"
      ]
     },
     "metadata": {},
     "output_type": "display_data"
    }
   ],
   "source": [
    "g = sns.factorplot(x=\"Parch\", y='Survived', hue=\"Sex\", data=data,\n",
    "                   size=6, kind=\"bar\", palette=\"muted\")\n",
    "\n",
    "g.set_ylabels(\"survival probability\")"
   ]
  },
  {
   "cell_type": "markdown",
   "metadata": {},
   "source": [
    "Adult females with at most 3 children and/or at most two parents combined are more likely to survive.  Children are more likely to survive regardless whether or not they are traveling with their parents. Among adult males, only the one with at most one children or parent are more likely to survive."
   ]
  },
  {
   "cell_type": "markdown",
   "metadata": {},
   "source": [
    "#### Does having a siblings increase a passenger's survival rate within the gender group?"
   ]
  },
  {
   "cell_type": "code",
   "execution_count": 611,
   "metadata": {
    "collapsed": false
   },
   "outputs": [
    {
     "data": {
      "text/plain": [
       "<seaborn.axisgrid.FacetGrid at 0x12a277860>"
      ]
     },
     "execution_count": 611,
     "metadata": {},
     "output_type": "execute_result"
    },
    {
     "data": {
      "image/png": "[encoded data removed]",
      "text/plain": [
       "<matplotlib.figure.Figure at 0x1288ce898>"
      ]
     },
     "metadata": {},
     "output_type": "display_data"
    }
   ],
   "source": [
    "g = sns.factorplot(x=\"SibSp\", y='Survived', hue=\"Sex\", data=data,\n",
    "                   size=6, kind=\"bar\", palette=\"muted\")\n",
    "\n",
    "g.set_ylabels(\"survival probability\")\n"
   ]
  },
  {
   "cell_type": "markdown",
   "metadata": {},
   "source": [
    "Adult females and children with at most 3 siblings are more likely to survive with a survival rate greater than 0.5.  Adult males with one sibling are more likely to survive. Children with more than 4 siblings are less likely to survive with the survival rate below 0.2."
   ]
  },
  {
   "cell_type": "markdown",
   "metadata": {},
   "source": [
    "#### Can the port of embarkation increase a passenger's survival rate within the gender group?"
   ]
  },
  {
   "cell_type": "code",
   "execution_count": 612,
   "metadata": {
    "collapsed": false
   },
   "outputs": [
    {
     "data": {
      "text/plain": [
       "<seaborn.axisgrid.FacetGrid at 0x1233c6470>"
      ]
     },
     "execution_count": 612,
     "metadata": {},
     "output_type": "execute_result"
    },
    {
     "data": {
      "image/png": "[encoded data removed]",
      "text/plain": [
       "<matplotlib.figure.Figure at 0x12bcb6c88>"
      ]
     },
     "metadata": {},
     "output_type": "display_data"
    }
   ],
   "source": [
    "g = sns.factorplot(x=\"Embarked\", y='Survived', hue=\"Sex\", data=data,\n",
    "                   size=6, kind=\"bar\", palette=\"muted\")\n",
    "\n",
    "g.set_ylabels(\"survival probability\")"
   ]
  },
  {
   "cell_type": "markdown",
   "metadata": {},
   "source": [
    "Passengers who have embarked in 'Cherbourg' have the highest rate of survival within their gender group."
   ]
  },
  {
   "cell_type": "markdown",
   "metadata": {},
   "source": [
    "#### Can a higher fare increases a passenger's survival rate within the gender group?"
   ]
  },
  {
   "cell_type": "code",
   "execution_count": 614,
   "metadata": {
    "collapsed": false
   },
   "outputs": [
    {
     "data": {
      "image/png": "[encoded data removed]",
      "text/plain": [
       "<matplotlib.figure.Figure at 0x123d25e80>"
      ]
     },
     "metadata": {},
     "output_type": "display_data"
    }
   ],
   "source": [
    "g = sns.FacetGrid(data, col='Survived', palette=\"muted\", size=6)\n",
    "g.map(sns.boxplot, 'Sex', 'Fare', showfliers=False)\n",
    "plt.legend()"
   ]
  },
  {
   "cell_type": "markdown",
   "metadata": {},
   "source": [
    "From the above figure, it emerges that women who survived have bought higher fare ticket than the one that did not. Let's investigate further."
   ]
  },
  {
   "cell_type": "code",
   "execution_count": 615,
   "metadata": {
    "collapsed": false
   },
   "outputs": [
    {
     "data": {
      "image/png": "[encoded data removed]",
      "text/plain": [
       "<matplotlib.figure.Figure at 0x117d34710>"
      ]
     },
     "metadata": {},
     "output_type": "display_data"
    }
   ],
   "source": [
    "# females\n",
    "female_survived = data[(data['Sex'] == 'female')&(data['Survived'] == 1)]\n",
    "female_not_survived = data[(data['Sex'] == 'female')&(data['Survived'] == 0)]\n",
    "\n",
    "# males\n",
    "male_survived = data[(data['Sex'] == 'male')&(data['Survived'] == 1)]\n",
    "male_not_survived = data[(data['Sex'] == 'male')&(data['Survived'] == 0)]\n",
    "\n",
    "# children\n",
    "children_survived = data[(data['Sex'] == 'child')&(data['Survived'] == 1)]\n",
    "children_not_survived = data[(data['Sex'] == 'child')&(data['Survived'] == 0)]\n",
    "\n",
    "fig, axs = plt.subplots(ncols=3,nrows=2,  figsize=(10, 5), squeeze=False)\n",
    "sns.distplot(male_survived['Fare'], hist_kws={'color': 'Teal'},bins=10, kde_kws={'color': 'green'}, ax=axs[0,0], label='All');\n",
    "axs[0,0].set(title='Male survived Fare Distribution')\n",
    "sns.distplot(female_survived['Fare'], hist_kws={'color': 'Teal'},bins=10, kde_kws={'color': 'red'}, ax=axs[0,1], label='All');\n",
    "axs[0,1].set(title='Female survived Fare distribution')\n",
    "sns.distplot(children_survived['Fare'], hist_kws={'color': 'Teal'},bins=10, kde_kws={'color': 'lime'}, ax=axs[0,2], label='All');\n",
    "axs[0,2].set(title='children survived Fare distribution')\n",
    "\n",
    "\n",
    "sns.distplot(male_not_survived['Fare'], hist_kws={'color': 'Teal'},bins=10, kde_kws={'color': 'green'}, ax=axs[1,0], label='All');\n",
    "axs[1,0].set(title='Male not survived Fare Distribution')\n",
    "sns.distplot(female_not_survived['Fare'], hist_kws={'color': 'Teal'},bins=10, kde_kws={'color': 'red'}, ax=axs[1,1], label='All');\n",
    "axs[1,1].set(title='Female not survived Fare distribution')\n",
    "sns.distplot(children_not_survived['Fare'], hist_kws={'color': 'Teal'},bins=10, kde_kws={'color': 'lime'}, ax=axs[1,2], label='All');\n",
    "axs[1,2].set(title='children not survived Fare distribution')\n",
    "\n",
    "plt.subplots_adjust(bottom=0.001, top=2, left=1, right=2)\n",
    "\n",
    "plt.show()\n"
   ]
  },
  {
   "cell_type": "markdown",
   "metadata": {},
   "source": [
    "From the previous boxplot, even though adult females with higher fare ticket seem to be more likely to survive, the density plots above show that there is not a significant difference in fare between women who survived and women who did not. additional fare ticket does not affect much the survival rate in adult males and children."
   ]
  },
  {
   "cell_type": "markdown",
   "metadata": {},
   "source": [
    "##### Let's investigate the male group further"
   ]
  },
  {
   "cell_type": "markdown",
   "metadata": {},
   "source": [
    "##### Adult males with a fare higher than 100"
   ]
  },
  {
   "cell_type": "code",
   "execution_count": 618,
   "metadata": {
    "collapsed": false
   },
   "outputs": [
    {
     "name": "stdout",
     "output_type": "stream",
     "text": [
      "The total number of adult males with a fare higher than 100 is 16\n",
      "The number of adult males with a fare higher than 100 who survived is 4\n",
      "The number of adult males with a fare higher than 100 who did not survived is 12\n",
      "The number of adult males with a fare more than 100 have a 0.771% chance of survival within the male group\n"
     ]
    }
   ],
   "source": [
    "## let's look how many male with fare > 100 have survived\n",
    "males_higher_fare = data[(data['Fare'] > 100)&(data['Sex'] == 'male')][\n",
    "    ['Age', 'Fare', 'Pclass', 'Survived']]\n",
    "total_males = data[data['Sex'] == 'male'].shape[0]\n",
    "male_higher_fare_count = Counter(males_higher_fare.Survived)\n",
    "print(f'The total number of adult males with a fare higher than 100 is { sum( male_higher_fare_count.values())}')\n",
    "print(f'The number of adult males with a fare higher than 100 who survived is {male_higher_fare_count[1]}')\n",
    "print(f'The number of adult males with a fare higher than 100 who did not survived is {male_higher_fare_count[0]}')\n",
    "print(f'The number of adult males with a fare more than 100 have a {np.round(male_higher_fare_count[1]*100 /total_males, 3)}% chance of survival within the male group')\n"
   ]
  },
  {
   "cell_type": "markdown",
   "metadata": {},
   "source": [
    "##### Adult males with a fare between 50 and 100"
   ]
  },
  {
   "cell_type": "code",
   "execution_count": 623,
   "metadata": {
    "collapsed": false
   },
   "outputs": [
    {
     "name": "stdout",
     "output_type": "stream",
     "text": [
      "The total number of males with a fare between 50 and 100 is 53\n",
      "The number of adult males with a fare between 50 and 100 who survived is 19\n",
      "The number of adult males with a fare between 50 and 100 who did not survived is 34\n",
      "The number of adult males with a fare between 50 and 100 have a 3.661 % chance of survival within the male group\n"
     ]
    }
   ],
   "source": [
    "male_50_100_fare  = data[((data['Fare'] <= 100) & (data['Fare'] > 50)) &\n",
    "                          (data['Sex'] == 'male')][['Age', 'Fare', 'Pclass', 'Survived']]\n",
    "\n",
    "male_50_100_fare_count = Counter(male_50_100_fare.Survived)\n",
    "print(f'The total number of males with a fare between 50 and 100 is { sum( male_50_100_fare_count.values())}')\n",
    "print(f'The number of adult males with a fare between 50 and 100 who survived is {male_50_100_fare_count[1]}')\n",
    "print(f'The number of adult males with a fare between 50 and 100 who did not survived is {male_50_100_fare_count[0]}')\n",
    "print(f'The number of adult males with a fare between 50 and 100 have a {np.round(male_50_100_fare_count[1]*100 /total_males, 3)} % chance of survival within the male group')\n"
   ]
  },
  {
   "cell_type": "markdown",
   "metadata": {},
   "source": [
    "##### Adult males with a fare between 25 and 50"
   ]
  },
  {
   "cell_type": "code",
   "execution_count": 624,
   "metadata": {
    "collapsed": false
   },
   "outputs": [
    {
     "name": "stdout",
     "output_type": "stream",
     "text": [
      "The total number of males with a fare between 25 and 50 is 84\n",
      "The number of adult males with a fare between 25 and 50 who survived is 24\n",
      "The number of adult males with a fare between 25 and 50 who did not survived is 60\n",
      "The number of adult males with a fare between 25 and 50 have a 4.624 % chance of survival among males\n"
     ]
    }
   ],
   "source": [
    "male_25_50_fare  = data[((data['Fare'] < 50) & (data['Fare'] > 25)) &\n",
    "                          (data['Sex'] == 'male')][['Age', 'Fare', 'Pclass', 'Survived']]\n",
    "\n",
    "male_25_50_fare_count = Counter(male_25_50_fare.Survived)\n",
    "print(f'The total number of males with a fare between 25 and 50 is { sum( male_25_50_fare_count.values())}')\n",
    "print(f'The number of adult males with a fare between 25 and 50 who survived is {male_25_50_fare_count[1]}')\n",
    "print(f'The number of adult males with a fare between 25 and 50 who did not survived is {male_25_50_fare_count[0]}')\n",
    "print(f'The number of adult males with a fare between 25 and 50 have a {np.round(male_25_50_fare_count[1]*100 /total_males, 3)} % chance of survival among males')\n"
   ]
  },
  {
   "cell_type": "markdown",
   "metadata": {},
   "source": [
    "##### Adult males with a fare between 10 and 25"
   ]
  },
  {
   "cell_type": "code",
   "execution_count": 625,
   "metadata": {
    "collapsed": false
   },
   "outputs": [
    {
     "name": "stdout",
     "output_type": "stream",
     "text": [
      "The total number of males with a fare between 10 and 25 is 106\n",
      "The number of adult males with a fare between 10 and 25 who survived is 12\n",
      "The number of adult males with a fare between 10 and 25 who did not survived is 94\n",
      "The number of adult males with a fare between 10 and 25 have a 2.312 % chance of survival within the male group\n"
     ]
    }
   ],
   "source": [
    "male_10_25_fare  = data[((data['Fare'] <= 25) & (data['Fare'] > 10)) &\n",
    "                          (data['Sex'] == 'male')][['Age', 'Fare', 'Pclass', 'Survived']]\n",
    "\n",
    "male_10_25_fare_count = Counter(male_10_25_fare.Survived)\n",
    "print(f'The total number of males with a fare between 10 and 25 is { sum( male_10_25_fare_count.values())}')\n",
    "print(f'The number of adult males with a fare between 10 and 25 who survived is {male_10_25_fare_count[1]}')\n",
    "print(f'The number of adult males with a fare between 10 and 25 who did not survived is {male_10_25_fare_count[0]}')\n",
    "print(f'The number of adult males with a fare between 10 and 25 have a {np.round(male_10_25_fare_count[1]*100 /total_males, 3)} % chance of survival within the male group')\n"
   ]
  },
  {
   "cell_type": "markdown",
   "metadata": {},
   "source": [
    "##### Adult males with a fare less than 10"
   ]
  },
  {
   "cell_type": "code",
   "execution_count": 626,
   "metadata": {
    "collapsed": false
   },
   "outputs": [
    {
     "name": "stdout",
     "output_type": "stream",
     "text": [
      "The total number of males with a fare less than 10 is 259\n",
      "The number of adult males with a fare less than 10 who survived is 27\n",
      "The number of adult males with a fare less than 10 who did not survived is 232\n",
      "The number of adult males with a fare less than 10 have a 5.202 % chance of survival within the male group\n"
     ]
    }
   ],
   "source": [
    "male_0_10_fare  = data[(data['Fare'] <= 10) &\n",
    "                          (data['Sex'] == 'male')][['Age', 'Fare', 'Pclass', 'Survived']]\n",
    "\n",
    "male_0_10_fare_count = Counter(male_0_10_fare.Survived)\n",
    "print(f'The total number of males with a fare less than 10 is { sum( male_0_10_fare_count.values())}')\n",
    "print(f'The number of adult males with a fare less than 10 who survived is {male_0_10_fare_count[1]}')\n",
    "print(f'The number of adult males with a fare less than 10 who did not survived is {male_0_10_fare_count[0]}')\n",
    "print(f'The number of adult males with a fare less than 10 have a {np.round(male_0_10_fare_count[1]*100 /total_males, 3)} % chance of survival within the male group')\n"
   ]
  },
  {
   "cell_type": "markdown",
   "metadata": {
    "collapsed": true
   },
   "source": [
    "From the investigation above we do see a slight increase in survival rate for males that have\n",
    "ticket with a fare value less than 100."
   ]
  },
  {
   "cell_type": "markdown",
   "metadata": {},
   "source": [
    "## Conclusion"
   ]
  },
  {
   "cell_type": "markdown",
   "metadata": {},
   "source": [
    "In this notebook, we have investigated the survival rate within gender group, namely: adult males, adult females, and children. From our analysis, it emerges that adult females and children are more likely to survive. Additionally, for adult males, the following increase their survival within the group:\n",
    " - A 'Pclass' value of 1.\n",
    " - A 'SibSp' value of 1.\n",
    " - A 'Parch' value of 1.\n",
    " - A 'Embarked' value of 'C'.\n",
    " - A 'Fare' value below 100."
   ]
  },
  {
   "cell_type": "code",
   "execution_count": null,
   "metadata": {
    "collapsed": true
   },
   "outputs": [],
   "source": [
    "## TODO: Add some 1D visualization\n",
    "## TODO: Additional insights"
   ]
  }
 ],
 "metadata": {
  "anaconda-cloud": {},
  "kernelspec": {
   "display_name": "Python [conda env:py3k]",
   "language": "python",
   "name": "conda-env-py3k-py"
  },
  "language_info": {
   "codemirror_mode": {
    "name": "ipython",
    "version": 3
   },
   "file_extension": ".py",
   "mimetype": "text/x-python",
   "name": "python",
   "nbconvert_exporter": "python",
   "pygments_lexer": "ipython3",
   "version": "3.6.0"
  }
 },
 "nbformat": 4,
 "nbformat_minor": 1
}
